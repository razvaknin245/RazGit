{
 "cells": [
  {
   "cell_type": "code",
   "execution_count": 6,
   "id": "9d448be4-9eb3-46f3-b91e-6357b3c2a5f2",
   "metadata": {
    "tags": []
   },
   "outputs": [],
   "source": [
    "#review by maskit : 27.03.2023\n",
    "\n",
    "import sys\n",
    "def b64encode(s):\n",
    "    i = 0\n",
    "    base64 = ending = ''\n",
    "    base64chars = 'ABCDEFGHIJKLMNOPQRSTUVWXYZabcdefghijklmnopqrstuvwxyz0123456789+/'\n",
    "  \n",
    "  # Add padding if string is not dividable by 3\n",
    "    pad = 3 - (len(s) % 3)\n",
    "    if pad != 3:\n",
    "        s += \"\\0\" * pad\n",
    "        ending += '=' * pad\n",
    "  \n",
    "  # Iterate though the whole input string\n",
    "    while i < len(s):\n",
    "        b = 0\n",
    "    # Take 3 characters at a time, convert them to 4 base64 chars\n",
    "        for j in range(0,3,1):\n",
    "            n = ord(s[i])\n",
    "            i += 1\n",
    "  \n",
    "      # Concatenate the three characters together \n",
    "            b += n << 8 * (2-j)\n",
    "    \n",
    "    # Convert the 3 chars to four Base64 chars\n",
    "        base64 += base64chars[ (b >> 18) & 63 ]\n",
    "        base64 += base64chars[ (b >> 12) & 63 ]\n",
    "        base64 += base64chars[ (b >> 6) & 63 ]\n",
    "        base64 += base64chars[ b & 63 ]\n",
    "  # Add the actual padding to the end\n",
    "    if pad != 3:\n",
    "        base64 = base64[:-pad]\n",
    "        base64 += ending\n",
    "  \n",
    "  # Print the Base64 encoded result\n",
    "    return base64\n",
    "\n",
    "def base64decode(s):\n",
    "    i = 0\n",
    "    base64 = decoded = ''\n",
    "    base64chars = 'ABCDEFGHIJKLMNOPQRSTUVWXYZabcdefghijklmnopqrstuvwxyz0123456789+/'\n",
    "  \n",
    "    if s[-2:] == '==':\n",
    "        s = s[0:-2] + \"AA\"\n",
    "        padd = 2\n",
    "    elif s[-1:] == '=':\n",
    "        s = s[0:-1] + \"A\"\n",
    "        padd = 1\n",
    "    else:\n",
    "        padd = 0\n",
    "  \n",
    "    while i < len(s):\n",
    "        d = 0\n",
    "        for j in range(0,4,1): \n",
    "            d += base64chars.index( s[i] ) << (18 - j * 6)\n",
    "            i += 1\n",
    "    \n",
    "        decoded += chr( (d >> 16 ) & 255 )\n",
    "        decoded += chr( (d >> 8 ) & 255 )\n",
    "        decoded += chr( d & 255 )\n",
    "    decoded = decoded[0:len( decoded ) - padd]\n",
    "\n",
    "    print (decoded)"
   ]
  },
  {
   "cell_type": "code",
   "execution_count": 7,
   "id": "6f3dad0d-b74a-45b6-a310-50585d77e11f",
   "metadata": {},
   "outputs": [
    {
     "name": "stdout",
     "output_type": "stream",
     "text": [
      "stringtocheck\n"
     ]
    }
   ],
   "source": [
    "base64decode(\"c3RyaW5ndG9jaGVjaw==\")"
   ]
  },
  {
   "cell_type": "code",
   "execution_count": 8,
   "id": "e37a7750-03d9-461a-af11-fe8c29e0e078",
   "metadata": {
    "tags": []
   },
   "outputs": [
    {
     "data": {
      "text/plain": [
       "'c3RyaW5ndG9jaGVjaw=='"
      ]
     },
     "execution_count": 8,
     "metadata": {},
     "output_type": "execute_result"
    }
   ],
   "source": [
    "b64encode(\"stringtocheck\")"
   ]
  },
  {
   "cell_type": "code",
   "execution_count": null,
   "id": "fc70fdd0-6ea5-4826-a455-3e27a47f2965",
   "metadata": {},
   "outputs": [],
   "source": []
  }
 ],
 "metadata": {
  "kernelspec": {
   "display_name": "Python 3 (ipykernel)",
   "language": "python",
   "name": "python3"
  },
  "language_info": {
   "codemirror_mode": {
    "name": "ipython",
    "version": 3
   },
   "file_extension": ".py",
   "mimetype": "text/x-python",
   "name": "python",
   "nbconvert_exporter": "python",
   "pygments_lexer": "ipython3",
   "version": "3.10.6"
  }
 },
 "nbformat": 4,
 "nbformat_minor": 5
}
