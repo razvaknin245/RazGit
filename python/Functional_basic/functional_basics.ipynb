{
 "cells": [
  {
   "cell_type": "code",
   "execution_count": 139,
   "id": "596cc4ed-250b-44ad-8608-8670c9adfa9b",
   "metadata": {},
   "outputs": [
    {
     "name": "stdout",
     "output_type": "stream",
     "text": [
      "15\n",
      "16\n",
      "17\n"
     ]
    }
   ],
   "source": [
    "import functools\n",
    "\n",
    "def sum_for(nums):\n",
    "    i = 0\n",
    "    for x in nums:\n",
    "        i += x\n",
    "    return i\n",
    "lisa = {1,2,3,4,5}\n",
    "print(sum_for(lisa))\n",
    "lisb = {1,2,3,4,6}\n",
    "print(functools.reduce(lambda a , b : a + b,lisb))\n",
    "lisc = {1,2,3,4,7}\n",
    "x = sum(lisc)\n",
    "print(x)\n",
    "    "
   ]
  },
  {
   "cell_type": "code",
   "execution_count": 24,
   "id": "1614f8e3-277e-4a24-9c16-73353596a092",
   "metadata": {
    "tags": []
   },
   "outputs": [
    {
     "name": "stdout",
     "output_type": "stream",
     "text": [
      "[0, 'odd', 2, 'odd', 4, 'odd', 6, 'odd', 8, 'odd', 10, 'odd', 12, 'odd', 14, 'odd', 16, 'odd', 18, 'odd', 20, 'odd', 22, 'odd', 24, 'odd', 26, 'odd', 28, 'odd', 30, 'odd', 32, 'odd', 34, 'odd', 36, 'odd', 38, 'odd', 40, 'odd', 42, 'odd', 44, 'odd', 46, 'odd', 48, 'odd', 50, 'odd', 52, 'odd', 54, 'odd', 56, 'odd', 58, 'odd', 60, 'odd', 62, 'odd', 64, 'odd', 66, 'odd', 68, 'odd', 70, 'odd', 72, 'odd', 74, 'odd', 76, 'odd', 78, 'odd', 80, 'odd', 82, 'odd', 84, 'odd', 86, 'odd', 88, 'odd', 90, 'odd', 92, 'odd', 94, 'odd', 96, 'odd', 98, 'odd', 100]\n"
     ]
    }
   ],
   "source": [
    "newlist = [x if x % 2 == 0 else \"odd\" for x in range(101)] \n",
    "print(newlist)"
   ]
  },
  {
   "cell_type": "code",
   "execution_count": 96,
   "id": "fc32cbea-2992-4672-974a-763252c5c04b",
   "metadata": {
    "tags": []
   },
   "outputs": [
    {
     "name": "stdout",
     "output_type": "stream",
     "text": [
      "[0, 7, 14, 17]\n",
      "[0, 7, 14, 17, 21, 27, 28]\n",
      "[7, 14, 17, 21, 27, 28, 35, 37]\n"
     ]
    }
   ],
   "source": [
    "def seven_boom(number):\n",
    "    newlist = []\n",
    "    for x in range(number + 1):\n",
    "        if (x % 7 == 0 or '7' in str(x)):\n",
    "            newlist.append(x)\n",
    "    return newlist\n",
    "\n",
    "print(seven_boom(17))\n",
    "\n",
    "def seven_boom_compre(number):\n",
    "    return [x for x in range(number+1) if '7' in str(x) or x % 7 == 0]\n",
    "\n",
    "newlist = []\n",
    "newlist = seven_boom_compre(28)\n",
    "print(newlist)\n",
    "\n",
    "def seven_boom_map(number):\n",
    "    return list(filter(None,map(lambda x : x if '7' in str(x) or x % 7 == 0 else None,range(number+1))))\n",
    "\n",
    "newlist = []\n",
    "newlist = seven_boom_map(37)\n",
    "print(newlist)\n",
    "    \n",
    "    "
   ]
  },
  {
   "cell_type": "code",
   "execution_count": 115,
   "id": "6cf502f3-c396-40d8-a732-d02e657ad0d3",
   "metadata": {
    "tags": []
   },
   "outputs": [
    {
     "name": "stdout",
     "output_type": "stream",
     "text": [
      "{0: 'a', 1: 'b', 2: 'c'}\n",
      "{0: 'a', 1: 'b', 2: 'c'}\n"
     ]
    }
   ],
   "source": [
    "def list_to_dict(ls):\n",
    "    dict1 = {}\n",
    "    for i,val in enumerate(ls):\n",
    "        dict1[i] = val\n",
    "        \n",
    "    return dict1\n",
    "        \n",
    "        \n",
    "\n",
    "l = ['a', 'b', 'c']\n",
    "dict1 = list_to_dict(l)\n",
    "print(dict1)\n",
    "\n",
    "dict2 = {i: val for i, val in enumerate(l)}\n",
    "print(dict2)"
   ]
  },
  {
   "cell_type": "code",
   "execution_count": 119,
   "id": "84d3c3c6-ff35-47ab-865e-2c0f7a6fcb0c",
   "metadata": {
    "tags": []
   },
   "outputs": [
    {
     "name": "stdout",
     "output_type": "stream",
     "text": [
      "8\n"
     ]
    }
   ],
   "source": [
    "def num_arg(*arg):\n",
    "    return len(arg)\n",
    "\n",
    "print(num_arg(1,2,3,4,5,\"six\",\"seven\",\"eight\"))"
   ]
  },
  {
   "cell_type": "code",
   "execution_count": 143,
   "id": "3fee9d5c-6344-4412-8303-01171b35bda8",
   "metadata": {
    "tags": []
   },
   "outputs": [
    {
     "name": "stdout",
     "output_type": "stream",
     "text": [
      "Hello\n"
     ]
    }
   ],
   "source": [
    "def named_arg(*args,**kw):\n",
    "    \n",
    "    if('name' in kw):\n",
    "            print(kw['name'])\n",
    "    else:\n",
    "        print(\"name not passed\")\n",
    "                \n",
    "\n",
    "named_arg(1,2,3,name=\"Hello\")"
   ]
  },
  {
   "cell_type": "code",
   "execution_count": 151,
   "id": "e74d1590-d681-4a34-9431-95be784bd630",
   "metadata": {
    "tags": []
   },
   "outputs": [
    {
     "name": "stdout",
     "output_type": "stream",
     "text": [
      "2\n"
     ]
    }
   ],
   "source": [
    "def make_adder(number):\n",
    "    def add_number(num):\n",
    "        num += number\n",
    "        return num\n",
    "    return add_number\n",
    "\n",
    "add_3 = make_adder(3)\n",
    "print(add_3(-1))\n"
   ]
  }
 ],
 "metadata": {
  "kernelspec": {
   "display_name": "Python 3 (ipykernel)",
   "language": "python",
   "name": "python3"
  },
  "language_info": {
   "codemirror_mode": {
    "name": "ipython",
    "version": 3
   },
   "file_extension": ".py",
   "mimetype": "text/x-python",
   "name": "python",
   "nbconvert_exporter": "python",
   "pygments_lexer": "ipython3",
   "version": "3.10.6"
  }
 },
 "nbformat": 4,
 "nbformat_minor": 5
}
