{
 "cells": [
  {
   "cell_type": "code",
   "execution_count": 47,
   "id": "3996afa8-cb3d-4700-944b-ffc80506e2a7",
   "metadata": {
    "tags": []
   },
   "outputs": [],
   "source": [
    "def is_even(num):\n",
    "    if(0 == num % 2):\n",
    "        return True\n",
    "    else : return False\n",
    "\n",
    "def print_num(s,num = 1):\n",
    "    i = 0\n",
    "    while(i < num):\n",
    "        print(s)\n",
    "        i+=1\n",
    "\n",
    "def check_leap(year):\n",
    "    if year % 4 == 0 and (year % 100 != 0 or year % 400 == 0):\n",
    "        print(\"LEAP\")\n",
    "    else:\n",
    "        print(\"NOT LEAP\")\n",
    "\n",
    "def is_long(num):\n",
    "    if(isinstance(num,long)):\n",
    "        return True\n",
    "    else:\n",
    "        return False\n",
    "\n",
    "def flip_num(num):\n",
    "    reverse = 0\n",
    "    curr = 0\n",
    "    while(num != 0):\n",
    "        curr = int(num) % 10\n",
    "        reverse = reverse * 10\n",
    "        reverse = reverse + curr\n",
    "        num = int(num) // 10\n",
    "        \n",
    "    print(\"num is : \" + str(reverse))\n",
    "    #float = dont swap\n",
    "    #string = break the code , need to fix with casting to int\n",
    "\n",
    "def translate_grade(grade):\n",
    "    if(grade >= 0 and grade <= 10):\n",
    "        return 'F'\n",
    "    elif(grade <= 30):\n",
    "        return 'E'\n",
    "    elif(grade <= 50):\n",
    "        return 'D'\n",
    "    elif(grade <= 70):\n",
    "        return 'C'\n",
    "    elif(grade <= 90):\n",
    "        return 'B'\n",
    "    else:\n",
    "        return 'A'\n",
    "\n",
    "def factorial(num):\n",
    "    return True if(num == 1 or num == 0) else num * factorial(num - 1)"
   ]
  }
 ],
 "metadata": {
  "kernelspec": {
   "display_name": "Python 3 (ipykernel)",
   "language": "python",
   "name": "python3"
  },
  "language_info": {
   "codemirror_mode": {
    "name": "ipython",
    "version": 3
   },
   "file_extension": ".py",
   "mimetype": "text/x-python",
   "name": "python",
   "nbconvert_exporter": "python",
   "pygments_lexer": "ipython3",
   "version": "3.10.6"
  }
 },
 "nbformat": 4,
 "nbformat_minor": 5
}
