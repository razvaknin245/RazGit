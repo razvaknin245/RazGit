{
 "cells": [
  {
   "cell_type": "code",
   "execution_count": 126,
   "id": "003d126b-a2fe-40ef-ab8b-a8975cc0376a",
   "metadata": {},
   "outputs": [
    {
     "name": "stdout",
     "output_type": "stream",
     "text": [
      "filepy.txt\n"
     ]
    }
   ],
   "source": [
    "#ex1\n",
    "import os\n",
    "def filename(filepath):\n",
    "    return os.path.basename(filepath)\n",
    "\n",
    "print(filename(\"/home/raz/Downloads/filepy.txt\"))"
   ]
  },
  {
   "cell_type": "code",
   "execution_count": 144,
   "id": "28630786-a6e6-414c-9f47-ea89a41e2126",
   "metadata": {},
   "outputs": [],
   "source": [
    "#ex2\n",
    "def turn_cap(filepath):\n",
    "    with open(filepath,\"r\") as file:\n",
    "              buffer = file.read()\n",
    "    with open(filepath,\"w\") as file:\n",
    "              file.write(buffer.upper())\n",
    "turn_cap(\"/home/raz/Downloads/filepy.txt\")"
   ]
  },
  {
   "cell_type": "code",
   "execution_count": 128,
   "id": "abde8edf-b842-4088-bea6-01b184bc154b",
   "metadata": {},
   "outputs": [
    {
     "name": "stdout",
     "output_type": "stream",
     "text": [
      "True\n",
      "True\n",
      "False\n",
      "True\n",
      "True\n"
     ]
    }
   ],
   "source": [
    "#ex3\n",
    "def is_prime(n):\n",
    "    for i in range(2,n):\n",
    "        if(n % i) == 0:\n",
    "            return False\n",
    "    return True\n",
    "\n",
    "print(is_prime(2))\n",
    "print(is_prime(73))\n",
    "print(is_prime(74))\n",
    "print(is_prime(83))\n",
    "print(is_prime(1103))"
   ]
  },
  {
   "cell_type": "code",
   "execution_count": 129,
   "id": "0ab89a83-5348-4fda-938c-b2e6514fc409",
   "metadata": {},
   "outputs": [
    {
     "name": "stdout",
     "output_type": "stream",
     "text": [
      "25\n"
     ]
    }
   ],
   "source": [
    "#ex4\n",
    "x = lambda a : a**2\n",
    "print(x(5))"
   ]
  },
  {
   "cell_type": "code",
   "execution_count": 130,
   "id": "05bbe931-a4b9-4585-8925-f301cdb5f2fc",
   "metadata": {},
   "outputs": [
    {
     "data": {
      "text/plain": [
       "20"
      ]
     },
     "execution_count": 130,
     "metadata": {},
     "output_type": "execute_result"
    }
   ],
   "source": [
    "#ex5\n",
    "add = lambda a , b: a + b\n",
    "add(5,15)"
   ]
  },
  {
   "cell_type": "code",
   "execution_count": 148,
   "id": "f25d627f-00ef-4327-8f97-7e5f861aae41",
   "metadata": {},
   "outputs": [
    {
     "name": "stdout",
     "output_type": "stream",
     "text": [
      "['capitalize', 'casefold', 'center', 'count', 'encode', 'endswith', 'expandtabs', 'find', 'format', 'format_map', 'index', 'isalnum', 'isalpha', 'isascii', 'isdecimal', 'isdigit', 'isidentifier', 'islower', 'isnumeric', 'isprintable', 'isspace', 'istitle', 'isupper', 'join', 'ljust', 'lower', 'lstrip', 'maketrans', 'partition', 'removeprefix', 'removesuffix', 'replace', 'rfind', 'rindex', 'rjust', 'rpartition', 'rsplit', 'rstrip', 'split', 'splitlines', 'startswith', 'strip', 'swapcase', 'title', 'translate', 'upper', 'zfill']\n",
      "['capitalize', 'casefold', 'center', 'count', 'encode', 'endswith', 'expandtabs', 'find', 'format', 'format_map', 'index', 'isalnum', 'isalpha', 'isascii', 'isdecimal', 'isdigit', 'isidentifier', 'islower', 'isnumeric', 'isprintable', 'isspace', 'istitle', 'isupper', 'join', 'ljust', 'lower', 'lstrip', 'maketrans', 'partition', 'removeprefix', 'removesuffix', 'replace', 'rfind', 'rindex', 'rjust', 'rpartition', 'rsplit', 'rstrip', 'split', 'splitlines', 'startswith', 'strip', 'swapcase', 'title', 'translate', 'upper', 'zfill']\n"
     ]
    }
   ],
   "source": [
    "#ex6\n",
    "def reducelist(string):\n",
    "    no_dunder = []\n",
    "    for method_name in dir(string):\n",
    "        if not (method_name.startswith(\"__\") and method_name.endswith(\"__\")):\n",
    "            no_dunder.append(method_name)\n",
    "    print(no_dunder)\n",
    "def reducedunder(string):\n",
    "    no_dunder = [method_name for method_name in dir(string)if not (method_name.startswith(\"__\") and method_name.endswith(\"__\"))]\n",
    "    print(no_dunder)\n",
    "reducelist(\"example string\")\n",
    "reducedunder(\"example string\")\n",
    "\n"
   ]
  },
  {
   "cell_type": "code",
   "execution_count": 132,
   "id": "1fd7c20b-302b-4c19-88ff-8344dcdfe7ac",
   "metadata": {},
   "outputs": [
    {
     "name": "stdout",
     "output_type": "stream",
     "text": [
      "[2, 3, 4]\n"
     ]
    }
   ],
   "source": [
    "#ex7\n",
    "inc = lambda lis : [num + 1 for num in lis]\n",
    "print(inc([1,2,3]))"
   ]
  },
  {
   "cell_type": "code",
   "execution_count": 133,
   "id": "0ac990f4-73be-4d95-9b60-2ebd92be486f",
   "metadata": {},
   "outputs": [
    {
     "name": "stdout",
     "output_type": "stream",
     "text": [
      "['raz', 1, [2, 4], False, True, 5, 6, 'vaknin']\n",
      "['raz', 'vaknin']\n"
     ]
    }
   ],
   "source": [
    "#ex8\n",
    "def remove_nonstr(lis):\n",
    "       return [item for item in lis if isinstance(item,str)]\n",
    "    \n",
    "lis = [\"raz\",1,[2,4],False,True,5,6,\"vaknin\"]\n",
    "print(lis)\n",
    "lis = remove_nonstr(lis)\n",
    "print(lis)"
   ]
  },
  {
   "cell_type": "code",
   "execution_count": 134,
   "id": "c9356c58-4ad7-46da-a04e-e0b298f094a9",
   "metadata": {},
   "outputs": [
    {
     "name": "stdout",
     "output_type": "stream",
     "text": [
      "(0, 'raz')\n",
      "(1, 'vaknin')\n",
      "(2, 'other')\n"
     ]
    }
   ],
   "source": [
    "#ex9\n",
    "def enu_list(st):\n",
    "    for item in enumerate(st):\n",
    "        print(item)\n",
    "mylist = [\"raz\", \"vaknin\", \"other\"]\n",
    "enu_list(mylist)"
   ]
  },
  {
   "cell_type": "code",
   "execution_count": 135,
   "id": "8d311096-2402-4719-8a5d-dc17da2b93c7",
   "metadata": {},
   "outputs": [
    {
     "name": "stdout",
     "output_type": "stream",
     "text": [
      "Raz: 1\n",
      "vaknin: 2\n",
      "another_raz: 3\n",
      "another_vaknin: 4\n"
     ]
    }
   ],
   "source": [
    "#ex10\n",
    "def dict_list_enu(dicto):\n",
    "    for (key, val) in dicto.items():\n",
    "        print(f\"{key}: {val}\")\n",
    "\n",
    "Dicto = {\"Raz\": 1, \"vaknin\": 2, \"another_raz\": 3, \"another_vaknin\": 4}\n",
    "dict_list_enu(Dicto)\n"
   ]
  },
  {
   "cell_type": "code",
   "execution_count": 136,
   "id": "94145507-f38d-4396-9cdd-dcf84c560feb",
   "metadata": {},
   "outputs": [
    {
     "name": "stdout",
     "output_type": "stream",
     "text": [
      "{0: 'raz', 1: 'vaknin', 2: 'other'}\n",
      "{0: 'raz', 1: 'vaknin', 2: 'other'}\n"
     ]
    }
   ],
   "source": [
    "#ex11\n",
    "def list_to_dict(lis):\n",
    "    res = {}\n",
    "    for i in range(len(lis)):\n",
    "        res[i] = lis[i]\n",
    "    return res\n",
    "\n",
    "list_to_dict_b = lambda lis : { i : lis[i] for i in range(len(lis))}\n",
    "                               \n",
    "print(list_to_dict([\"raz\", \"vaknin\", \"other\"]))\n",
    "print(list_to_dict_b([\"raz\", \"vaknin\", \"other\"]))                               "
   ]
  },
  {
   "cell_type": "code",
   "execution_count": 140,
   "id": "43196873-510d-451e-ba77-ebaa8becad6d",
   "metadata": {},
   "outputs": [
    {
     "name": "stdout",
     "output_type": "stream",
     "text": [
      "hello\n",
      "0\n"
     ]
    }
   ],
   "source": [
    "#ex12\n",
    "class DefaultDict(dict):\n",
    "    def __init__(self, default_value):\n",
    "        self.default_value = default_value\n",
    "        super().__init__()\n",
    "\n",
    "    def __missing__(self, value):\n",
    "        return self.default_value\n",
    "\n",
    "d = DefaultDict(0)\n",
    "d['a'] = \"hello\"\n",
    "print(d['a'])\n",
    "print(d['b'])\n"
   ]
  },
  {
   "cell_type": "code",
   "execution_count": 141,
   "id": "85e7fbcd-0405-4a88-8e72-124d7b6c066f",
   "metadata": {},
   "outputs": [
    {
     "name": "stdout",
     "output_type": "stream",
     "text": [
      "0\n",
      "1\n",
      "4\n",
      "9\n",
      "16\n",
      "25\n",
      "36\n",
      "49\n",
      "64\n",
      "81\n"
     ]
    }
   ],
   "source": [
    "#ex13\n",
    "def squared_numbers():\n",
    "    num = 0\n",
    "    while True:\n",
    "        yield num ** 2\n",
    "        num += 1\n",
    "squares_generator = squared_numbers()\n",
    "\n",
    "for i in range(10):\n",
    "    print(next(squares_generator))\n",
    "        "
   ]
  },
  {
   "cell_type": "code",
   "execution_count": 43,
   "id": "5b5f1ce2-e3d2-43d9-8c27-7a53f0cc0d4e",
   "metadata": {},
   "outputs": [
    {
     "name": "stdout",
     "output_type": "stream",
     "text": [
      "this copy :<__main__.Node object at 0x7f8ce41ecdc0>-><__main__.Node object at 0x7f8ce41edfc0>-><__main__.Node object at 0x7f8ce41ec2b0>\n",
      "before reverse :(5, 6)->hello->1\n",
      "after reverse :1->hello->(5, 6)\n",
      "False\n",
      "len is 3\n",
      "raz->1->(5, 6)\n",
      "len is 2\n",
      "1->(5, 6)\n",
      "len is 1\n",
      "(5, 6)\n",
      "len is 0\n",
      "True\n"
     ]
    }
   ],
   "source": [
    "#ex14\n",
    "class Node:\n",
    "    def __init__(self,data,next = None):\n",
    "        self._data = data\n",
    "        self._next = next\n",
    "    @property\n",
    "    def data(self):\n",
    "        return self._data\n",
    "\n",
    "    @data.setter\n",
    "    def data(self, value):\n",
    "        self._data = value\n",
    "\n",
    "    @property\n",
    "    def next(self):\n",
    "        return self._next\n",
    "\n",
    "    @next.setter\n",
    "    def next(self, value):\n",
    "        self._next = value\n",
    "\n",
    "class LinkedList:\n",
    "    def __init__(self,*args):\n",
    "        self._head = None\n",
    "        self._len = 0\n",
    "        for i in args:\n",
    "            self.push_begin(i)\n",
    "   \n",
    "    def __iter__(self):\n",
    "        node = self._head\n",
    "        while node is not None:\n",
    "            yield node._data\n",
    "            node = node._next\n",
    "            \n",
    "    def __len__(self):\n",
    "        return self._len\n",
    "    \n",
    "    def __repr__(self):\n",
    "        return f\"LinkedList({', '.join(repr(data) for data in self)})\"\n",
    "    \n",
    "    def __str__(self):\n",
    "        return \"->\".join(str(data) for data in self)\n",
    "    \n",
    "    def __bool__(self):\n",
    "        return not bool(self._head)\n",
    "    \n",
    "    def push_begin(self, data):\n",
    "        new_node = Node(data, self._head)\n",
    "        self._head = new_node\n",
    "        self._len += 1\n",
    "        \n",
    "    def pop_begin(self):\n",
    "        if self._head is None:\n",
    "            raise ValueError(\"pop from an empty list\")\n",
    "        data = self._head.data\n",
    "        self._head = self._head.next\n",
    "        self._len -= 1\n",
    "        return data\n",
    "\n",
    "    def remove(self,data):\n",
    "        if self._head is None:\n",
    "            raise ValueError(\"The List Is Empty\")\n",
    "        if self._head.data == data:\n",
    "            self._head = self._head.next\n",
    "            self._size -= 1\n",
    "            return\n",
    "        prev = self._head\n",
    "        node = self._head.next\n",
    "        while node:\n",
    "            if node.data == data:\n",
    "                prev.next = node.next\n",
    "                self._len -= 1\n",
    "                return\n",
    "            prev = node\n",
    "            node = node.next\n",
    "        raise ValueError(f\"{data} is not in list\")\n",
    "        \n",
    "    def reversell(self):\n",
    "        prev = None\n",
    "        current = self._head\n",
    "        while(current is not None):\n",
    "            next = current._next\n",
    "            current._next = prev\n",
    "            prev = current\n",
    "            current = next\n",
    "        self._head = prev\n",
    "        \n",
    "    def copy_list(self):\n",
    "        new_list = LinkedList()\n",
    "        current = self._head\n",
    "        while(current is not None):\n",
    "            new_node = Node(current.data)\n",
    "            new_list.push_begin(new_node)\n",
    "            current = current.next\n",
    "        return new_list\n",
    "\n",
    "sll = LinkedList(1,\"hello\",(5,6))\n",
    "copy = sll.copy_list()\n",
    "print(\"this copy :\" + str(copy))\n",
    "print(\"before reverse :\" + str(sll))\n",
    "sll.reversell()\n",
    "print(\"after reverse :\" + str(sll))\n",
    "sll.remove(\"hello\")\n",
    "sll.push_begin(\"raz\")\n",
    "print(bool(sll))\n",
    "print(\"len is \" + str(len(sll)))\n",
    "print(sll)\n",
    "sll.pop_begin()\n",
    "print(\"len is \" + str(len(sll)))\n",
    "print(sll)\n",
    "sll.pop_begin()\n",
    "print(\"len is \" + str(len(sll)))\n",
    "print(sll)\n",
    "sll.pop_begin()\n",
    "print(\"len is \" + str(len(sll)))\n",
    "print(bool(sll))"
   ]
  },
  {
   "cell_type": "code",
   "execution_count": null,
   "id": "9cf8eb75-b569-4de2-935c-e7f44857eec6",
   "metadata": {},
   "outputs": [],
   "source": []
  },
  {
   "cell_type": "code",
   "execution_count": null,
   "id": "e0699fae-bcc9-4215-9f83-7b8181c08e19",
   "metadata": {},
   "outputs": [],
   "source": []
  }
 ],
 "metadata": {
  "kernelspec": {
   "display_name": "Python 3 (ipykernel)",
   "language": "python",
   "name": "python3"
  },
  "language_info": {
   "codemirror_mode": {
    "name": "ipython",
    "version": 3
   },
   "file_extension": ".py",
   "mimetype": "text/x-python",
   "name": "python",
   "nbconvert_exporter": "python",
   "pygments_lexer": "ipython3",
   "version": "3.10.6"
  }
 },
 "nbformat": 4,
 "nbformat_minor": 5
}
