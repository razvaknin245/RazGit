{
 "cells": [
  {
   "cell_type": "code",
   "execution_count": 9,
   "id": "a01dd52a-fdb8-4211-ab06-0d039142518d",
   "metadata": {
    "tags": []
   },
   "outputs": [
    {
     "name": "stdout",
     "output_type": "stream",
     "text": [
      "1\n",
      "2\n",
      "3\n",
      "4\n",
      "5\n",
      "6\n"
     ]
    }
   ],
   "source": [
    "#question3\n",
    "class X(object):\n",
    "    def __init__(self):\n",
    "        self.a = 1\n",
    "        self._a = 2\n",
    "        self.__a = 3\n",
    "    def get_the_hidden_attribute(self):\n",
    "        return self.__a\n",
    "    def set_the_hidden_attribute(self):\n",
    "        self.__a = 6\n",
    "x = X()\n",
    "print(x.a)\n",
    "print(x._a)\n",
    "#dont work - print(x.__a)\n",
    "#need to do:\n",
    "print(x._X__a)\n",
    "#and for change :\n",
    "x._X__a = 4\n",
    "print(x._X__a)\n",
    "x._X__a = 5\n",
    "print(x.get_the_hidden_attribute())\n",
    "x.set_the_hidden_attribute()\n",
    "print(x.get_the_hidden_attribute())"
   ]
  },
  {
   "cell_type": "code",
   "execution_count": 19,
   "id": "5598fcf3-d3f5-4757-ba25-31a3dc1f5a07",
   "metadata": {
    "tags": []
   },
   "outputs": [
    {
     "name": "stdout",
     "output_type": "stream",
     "text": [
      "hello from get_a\n",
      "1\n",
      "hello from set_a\n",
      "hello from get_a\n",
      "5\n"
     ]
    }
   ],
   "source": [
    "class X(object):\n",
    "    def __init__(self):\n",
    "        self.__a = 1\n",
    "    def get_a(self):\n",
    "        print (\"hello from get_a\")\n",
    "        return self.__a\n",
    "    def set_a(self,a):\n",
    "        print (\"hello from set_a\")\n",
    "        self.__a = a\n",
    "        \n",
    "    a = property(get_a,set_a)#can get 4 arguments = get,set,del,doc\n",
    "x = X()\n",
    "print(x.a)\n",
    "x.a = 5\n",
    "print(x.a)"
   ]
  },
  {
   "cell_type": "code",
   "execution_count": null,
   "id": "eed25eb5-39c1-4170-9cb1-c00463d36b68",
   "metadata": {},
   "outputs": [],
   "source": []
  }
 ],
 "metadata": {
  "kernelspec": {
   "display_name": "Python 3 (ipykernel)",
   "language": "python",
   "name": "python3"
  },
  "language_info": {
   "codemirror_mode": {
    "name": "ipython",
    "version": 3
   },
   "file_extension": ".py",
   "mimetype": "text/x-python",
   "name": "python",
   "nbconvert_exporter": "python",
   "pygments_lexer": "ipython3",
   "version": "3.10.6"
  }
 },
 "nbformat": 4,
 "nbformat_minor": 5
}
