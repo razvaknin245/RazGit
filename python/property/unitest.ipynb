{
 "cells": [
  {
   "cell_type": "code",
   "execution_count": 11,
   "id": "4cc480ef-1528-4305-8a4f-fa4356fff1c0",
   "metadata": {
    "tags": []
   },
   "outputs": [
    {
     "name": "stderr",
     "output_type": "stream",
     "text": [
      "..\n",
      "----------------------------------------------------------------------\n",
      "Ran 2 tests in 0.002s\n",
      "\n",
      "OK\n"
     ]
    }
   ],
   "source": [
    "import unittest\n",
    "import numbers\n",
    "from property_ex import Point\n",
    "\n",
    "class test_number_methhod(unittest.TestCase):\n",
    "    def setUp(self):\n",
    "        super().setUp()\n",
    "        self.p = Point()\n",
    "        \n",
    "    def get_x(self):\n",
    "        self.assertEqual(self.p.x,0.0)\n",
    "        \n",
    "    def get_y(self):\n",
    "        self.assertEqual(self.p.y,0.0)\n",
    "        \n",
    "    def set_x(self):\n",
    "        self.p.x = 5.0\n",
    "        self.assertEqual(self.p.x,5.0)\n",
    "        \n",
    "    def set_y(self):\n",
    "        self.p.y = 5.0\n",
    "        self.assertEqual(self.p.y,5.0)\n",
    "        \n",
    "    def test_nonnumber_x(self):\n",
    "        with self.assertRaises(ValueError):\n",
    "            self.p.x = \"not a number\"\n",
    "            \n",
    "    def test_nonnumber_y(self):\n",
    "        with self.assertRaises(ValueError):\n",
    "            self.p.y = \"not a number\"\n",
    "       \n",
    "\n",
    "if __name__ == '__main__':\n",
    "    unittest.main(argv=['first-arg-is-ignored'], exit=False)\n"
   ]
  },
  {
   "cell_type": "code",
   "execution_count": null,
   "id": "4926512e-7b0c-4f96-9912-35c97301383d",
   "metadata": {},
   "outputs": [],
   "source": []
  }
 ],
 "metadata": {
  "kernelspec": {
   "display_name": "Python 3 (ipykernel)",
   "language": "python",
   "name": "python3"
  },
  "language_info": {
   "codemirror_mode": {
    "name": "ipython",
    "version": 3
   },
   "file_extension": ".py",
   "mimetype": "text/x-python",
   "name": "python",
   "nbconvert_exporter": "python",
   "pygments_lexer": "ipython3",
   "version": "3.10.6"
  }
 },
 "nbformat": 4,
 "nbformat_minor": 5
}
