{
 "cells": [
  {
   "cell_type": "code",
   "execution_count": 8,
   "id": "d7d8df05-7e31-48bd-b7dd-169a889b13bb",
   "metadata": {
    "tags": []
   },
   "outputs": [
    {
     "name": "stdout",
     "output_type": "stream",
     "text": [
      "READ ME\n",
      "WORKED :)\n"
     ]
    }
   ],
   "source": [
    "fileone = open(\"readme.txt\",\"r\")\n",
    "try:\n",
    "    print(fileone.read().upper())\n",
    "finally:\n",
    "    fileone.close()"
   ]
  },
  {
   "cell_type": "code",
   "execution_count": 9,
   "id": "9f184e79-9116-43f6-af65-3f69a7cdb706",
   "metadata": {
    "tags": []
   },
   "outputs": [
    {
     "name": "stdout",
     "output_type": "stream",
     "text": [
      "READ ME\n",
      "WORKED :)\n"
     ]
    }
   ],
   "source": [
    "with open(\"readme.txt\",\"r\")as f:\n",
    "    data = f.read().upper()\n",
    "    print(data)\n",
    "    "
   ]
  },
  {
   "cell_type": "code",
   "execution_count": null,
   "id": "a9290ce3-522b-43e5-9d37-d57c7a32d95b",
   "metadata": {},
   "outputs": [],
   "source": []
  }
 ],
 "metadata": {
  "kernelspec": {
   "display_name": "Python 3 (ipykernel)",
   "language": "python",
   "name": "python3"
  },
  "language_info": {
   "codemirror_mode": {
    "name": "ipython",
    "version": 3
   },
   "file_extension": ".py",
   "mimetype": "text/x-python",
   "name": "python",
   "nbconvert_exporter": "python",
   "pygments_lexer": "ipython3",
   "version": "3.10.6"
  }
 },
 "nbformat": 4,
 "nbformat_minor": 5
}
