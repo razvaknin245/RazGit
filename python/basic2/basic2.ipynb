{
 "cells": [
  {
   "cell_type": "code",
   "execution_count": 1,
   "id": "beb87c3e-3d9a-4cca-837d-d05560f42f4d",
   "metadata": {},
   "outputs": [
    {
     "name": "stdout",
     "output_type": "stream",
     "text": [
      "[0, 1, 4, 9, 16, 25, 36, 49, 64, 81, 100]\n",
      "[0, 1, 4, 9, 16, 25, 36, 49, 64, 81, 100]\n"
     ]
    }
   ],
   "source": [
    "def squaerd_num():\n",
    "    i = 0\n",
    "    squre = 0\n",
    "    my_list = []\n",
    "    while(i <= 10):\n",
    "        squre = i ** 2\n",
    "        my_list.append(squre)\n",
    "        i += 1\n",
    "    print(my_list)\n",
    "    \n",
    "def squaerd_num2():\n",
    "    i = 0\n",
    "    squre = 0\n",
    "    my_list = []\n",
    "    for i in range(11):\n",
    "        squre = i ** 2\n",
    "        my_list.append(squre)\n",
    "    print(my_list)\n",
    "squaerd_num()\n",
    "squaerd_num2()"
   ]
  },
  {
   "cell_type": "code",
   "execution_count": 2,
   "id": "85dea339-3d8a-4883-9161-f004a6e7eccd",
   "metadata": {},
   "outputs": [
    {
     "name": "stdout",
     "output_type": "stream",
     "text": [
      "[0, 2, 4, 6, 8, 10, 12, 14, 16, 18, 20, 22, 24, 26, 28, 30, 32, 34, 36, 38, 40, 42, 44, 46, 48, 50, 52, 54, 56, 58, 60, 62, 64, 66, 68, 70, 72, 74, 76, 78, 80, 82, 84, 86, 88, 90, 92, 94, 96, 98, 100]\n",
      "[0, 2, 4, 6, 8, 10, 12, 14, 16, 18, 20, 22, 24, 26, 28, 30, 32, 34, 36, 38, 40, 42, 44, 46, 48, 50, 52, 54, 56, 58, 60, 62, 64, 66, 68, 70, 72, 74, 76, 78, 80, 82, 84, 86, 88, 90, 92, 94, 96, 98, 100]\n",
      "[0, 2, 4, 6, 8, 10, 12, 14, 16, 18, 20, 22, 24, 26, 28, 30, 32, 34, 36, 38, 40, 42, 44, 46, 48, 50, 52, 54, 56, 58, 60, 62, 64, 66, 68, 70, 72, 74, 76, 78, 80, 82, 84, 86, 88, 90, 92, 94, 96, 98, 100]\n"
     ]
    }
   ],
   "source": [
    "def all_even_wh():\n",
    "    i = 0\n",
    "    even_list = []\n",
    "    while(i <= 100):\n",
    "        even_list.append(i)\n",
    "        i += 2\n",
    "    print(even_list)\n",
    "    \n",
    "def all_even_f():\n",
    "    even_list = []\n",
    "    for i in range(0,101,2):\n",
    "        even_list.append(i)\n",
    "    print(even_list)\n",
    "    \n",
    "def all_even():\n",
    "    even_nums = list(range(0, 101, 2))\n",
    "    print(even_nums)\n",
    "\n",
    "    \n",
    "all_even_wh()\n",
    "all_even_f()\n",
    "all_even()"
   ]
  },
  {
   "cell_type": "code",
   "execution_count": 3,
   "id": "873ebb20-d006-4233-99a9-51fcb1d741a7",
   "metadata": {
    "tags": []
   },
   "outputs": [
    {
     "name": "stdout",
     "output_type": "stream",
     "text": [
      "{'o': 1, 'H': 1, 'l': 2, 'e': 1}\n"
     ]
    }
   ],
   "source": [
    "def str_to_dict(st):\n",
    "    dict = {letter : st.count(letter) for letter in set(st)}\n",
    "    return dict\n",
    "Dicto = str_to_dict(\"Hello\")\n",
    "print(Dicto)"
   ]
  },
  {
   "cell_type": "code",
   "execution_count": 4,
   "id": "c92ade80-8774-41dc-ac79-f6b27438548f",
   "metadata": {},
   "outputs": [
    {
     "name": "stdout",
     "output_type": "stream",
     "text": [
      "(0, 'raz')\n",
      "(1, 'vaknin')\n",
      "(2, 'other')\n"
     ]
    }
   ],
   "source": [
    "def enu_list(st):\n",
    "    for item in enumerate(st):\n",
    "        print(item)\n",
    "mylist = [\"raz\", \"vaknin\", \"other\"]\n",
    "enu_list(mylist)\n"
   ]
  },
  {
   "cell_type": "code",
   "execution_count": 5,
   "id": "b81fcde6-09c8-4263-bff9-50d17a4d496a",
   "metadata": {
    "tags": []
   },
   "outputs": [
    {
     "name": "stdout",
     "output_type": "stream",
     "text": [
      " Raz: 1\n",
      " vaknin: 2\n",
      " another_raz: 3\n",
      " another_vaknin: 4\n"
     ]
    }
   ],
   "source": [
    "def dict_list_enu(dict):\n",
    "    for key, val in dict.items():\n",
    "        print(f\" {key}: {val}\")\n",
    "Dicto = {\"Raz\": 1, \"vaknin\": 2, \"another_raz\": 3, \"another_vaknin\": 4}\n",
    "dict_list_enu(Dicto)"
   ]
  },
  {
   "cell_type": "code",
   "execution_count": 6,
   "id": "75f6a83e-c143-4156-85c5-ec9a736cb10d",
   "metadata": {},
   "outputs": [
    {
     "name": "stdout",
     "output_type": "stream",
     "text": [
      "['vaknin']\n",
      "['vaknin', 'like']\n",
      "['check', 'three']\n"
     ]
    }
   ],
   "source": [
    "def check_lists(ls1,ls2):\n",
    "    result = []\n",
    "    for element in ls1:\n",
    "        if element in ls2:\n",
    "            result.append(element)\n",
    "    return result\n",
    "ls1 = [\"raz\",\"vaknin\"]\n",
    "ls2 = [\"Raz\",\"vaknin\"]\n",
    "res = check_lists(ls1,ls2)\n",
    "print(res)\n",
    "\n",
    "def check_lists_way_two(ls1,ls2):\n",
    "    set1 = set(ls1)\n",
    "    set2 = set(ls2)\n",
    "    return list(set1.intersection(set2))\n",
    "ls1 = [\"raz\",\"vaknin\",\"like\"]\n",
    "ls2 = [\"Raz\",\"vaknin\",\"like\"]\n",
    "res = check_lists_way_two(ls1,ls2)\n",
    "print(res)\n",
    "\n",
    "def check_lists_way_three(ls1,ls2):\n",
    "    return (item in ls2 for item in ls2)\n",
    "ls1 = [\"three\",\"way\",\"check\"]\n",
    "ls2 = [\"three\",\"WAY\",\"check\"]\n",
    "res = check_lists_way_two(ls1,ls2)\n",
    "print(res)"
   ]
  },
  {
   "cell_type": "code",
   "execution_count": 7,
   "id": "0944010c-34f3-49e5-ae2f-263aafa51ee5",
   "metadata": {},
   "outputs": [
    {
     "name": "stdout",
     "output_type": "stream",
     "text": [
      "[4, 6, 7, 2, 1]\n"
     ]
    }
   ],
   "source": [
    "def rotate_left(ls,k):\n",
    "    ls = ls[k:] + ls[:k]\n",
    "    print(\"\"+str(ls))\n",
    "\n",
    "test_list = [1,4,6,7,2]\n",
    "rotate_left(test_list,1)"
   ]
  }
 ],
 "metadata": {
  "kernelspec": {
   "display_name": "Python 3 (ipykernel)",
   "language": "python",
   "name": "python3"
  },
  "language_info": {
   "codemirror_mode": {
    "name": "ipython",
    "version": 3
   },
   "file_extension": ".py",
   "mimetype": "text/x-python",
   "name": "python",
   "nbconvert_exporter": "python",
   "pygments_lexer": "ipython3",
   "version": "3.10.6"
  },
  "vscode": {
   "interpreter": {
    "hash": "916dbcbb3f70747c44a77c7bcd40155683ae19c65e1c03b4aa3499c5328201f1"
   }
  }
 },
 "nbformat": 4,
 "nbformat_minor": 5
}
